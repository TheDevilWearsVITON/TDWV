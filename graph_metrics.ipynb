{
 "cells": [
  {
   "cell_type": "markdown",
   "id": "6820cc7f",
   "metadata": {},
   "source": [
    "## Metrics"
   ]
  },
  {
   "cell_type": "code",
   "execution_count": 2,
   "id": "e490f5e2",
   "metadata": {},
   "outputs": [],
   "source": [
    "import json\n",
    "import pandas as pd\n",
    "import numpy as np\n",
    "import matplotlib.pyplot as plt"
   ]
  },
  {
   "cell_type": "code",
   "execution_count": 18,
   "id": "75770de4",
   "metadata": {},
   "outputs": [],
   "source": [
    "# json 파일 불러오기\n",
    "with open('history/metrics_02_23.json', 'r') as f:\n",
    "    data = f.readlines()\n",
    "\n",
    "# json 문자열을 dictionary로 변환\n",
    "data = [json.loads(line) for line in data]\n",
    "\n",
    "# 데이터프레임으로 변환\n",
    "df = pd.DataFrame(data)"
   ]
  },
  {
   "cell_type": "code",
   "execution_count": 4,
   "id": "1e661a21",
   "metadata": {},
   "outputs": [
    {
     "data": {
      "text/plain": [
       "Index(['data_time', 'eta_seconds', 'fast_rcnn/cls_accuracy',\n",
       "       'fast_rcnn/false_negative', 'fast_rcnn/fg_cls_accuracy', 'iteration',\n",
       "       'loss_box_reg', 'loss_cls', 'loss_mask', 'loss_rpn_cls', 'loss_rpn_loc',\n",
       "       'lr', 'mask_rcnn/accuracy', 'mask_rcnn/false_negative',\n",
       "       'mask_rcnn/false_positive', 'roi_head/num_bg_samples',\n",
       "       'roi_head/num_fg_samples', 'rpn/num_neg_anchors', 'rpn/num_pos_anchors',\n",
       "       'time', 'timetest', 'total_loss', 'validation_loss'],\n",
       "      dtype='object')"
      ]
     },
     "execution_count": 4,
     "metadata": {},
     "output_type": "execute_result"
    }
   ],
   "source": [
    "#df.columns"
   ]
  },
  {
   "cell_type": "code",
   "execution_count": 19,
   "id": "805375dd",
   "metadata": {},
   "outputs": [],
   "source": [
    "del df['timetest']\n",
    "del df['time']\n",
    "del df['rpn/num_pos_anchors']\n",
    "del df['rpn/num_neg_anchors']\n",
    "del df['roi_head/num_fg_samples']\n",
    "del df['roi_head/num_bg_samples']\n",
    "del df['mask_rcnn/false_positive']\n",
    "del df['mask_rcnn/false_negative']\n",
    "del df['mask_rcnn/accuracy']\n",
    "del df['iteration']\n",
    "del df['fast_rcnn/fg_cls_accuracy']\n",
    "del df['fast_rcnn/false_negative']\n",
    "del df['fast_rcnn/cls_accuracy']\n",
    "del df['eta_seconds']\n",
    "del df['data_time']"
   ]
  },
  {
   "cell_type": "code",
   "execution_count": 20,
   "id": "ec126c89",
   "metadata": {},
   "outputs": [
    {
     "data": {
      "text/html": [
       "<div>\n",
       "<style scoped>\n",
       "    .dataframe tbody tr th:only-of-type {\n",
       "        vertical-align: middle;\n",
       "    }\n",
       "\n",
       "    .dataframe tbody tr th {\n",
       "        vertical-align: top;\n",
       "    }\n",
       "\n",
       "    .dataframe thead th {\n",
       "        text-align: right;\n",
       "    }\n",
       "</style>\n",
       "<table border=\"1\" class=\"dataframe\">\n",
       "  <thead>\n",
       "    <tr style=\"text-align: right;\">\n",
       "      <th></th>\n",
       "      <th>loss_box_reg</th>\n",
       "      <th>loss_cls</th>\n",
       "      <th>loss_mask</th>\n",
       "      <th>loss_rpn_cls</th>\n",
       "      <th>loss_rpn_loc</th>\n",
       "      <th>lr</th>\n",
       "      <th>total_loss</th>\n",
       "      <th>validation_loss</th>\n",
       "    </tr>\n",
       "  </thead>\n",
       "  <tbody>\n",
       "    <tr>\n",
       "      <th>0</th>\n",
       "      <td>0.420520</td>\n",
       "      <td>0.278791</td>\n",
       "      <td>0.203399</td>\n",
       "      <td>0.026369</td>\n",
       "      <td>0.017227</td>\n",
       "      <td>0.000002</td>\n",
       "      <td>0.930057</td>\n",
       "      <td>NaN</td>\n",
       "    </tr>\n",
       "    <tr>\n",
       "      <th>1</th>\n",
       "      <td>0.360244</td>\n",
       "      <td>0.184712</td>\n",
       "      <td>0.238427</td>\n",
       "      <td>0.023874</td>\n",
       "      <td>0.016660</td>\n",
       "      <td>0.000005</td>\n",
       "      <td>0.873941</td>\n",
       "      <td>NaN</td>\n",
       "    </tr>\n",
       "    <tr>\n",
       "      <th>2</th>\n",
       "      <td>0.446040</td>\n",
       "      <td>0.290542</td>\n",
       "      <td>0.258382</td>\n",
       "      <td>0.026780</td>\n",
       "      <td>0.023409</td>\n",
       "      <td>0.000007</td>\n",
       "      <td>1.006991</td>\n",
       "      <td>NaN</td>\n",
       "    </tr>\n",
       "    <tr>\n",
       "      <th>3</th>\n",
       "      <td>0.419906</td>\n",
       "      <td>0.317579</td>\n",
       "      <td>0.247101</td>\n",
       "      <td>0.024454</td>\n",
       "      <td>0.022135</td>\n",
       "      <td>0.000010</td>\n",
       "      <td>1.035907</td>\n",
       "      <td>NaN</td>\n",
       "    </tr>\n",
       "    <tr>\n",
       "      <th>4</th>\n",
       "      <td>0.379199</td>\n",
       "      <td>0.281935</td>\n",
       "      <td>0.256533</td>\n",
       "      <td>0.022155</td>\n",
       "      <td>0.024319</td>\n",
       "      <td>0.000012</td>\n",
       "      <td>1.037476</td>\n",
       "      <td>NaN</td>\n",
       "    </tr>\n",
       "    <tr>\n",
       "      <th>...</th>\n",
       "      <td>...</td>\n",
       "      <td>...</td>\n",
       "      <td>...</td>\n",
       "      <td>...</td>\n",
       "      <td>...</td>\n",
       "      <td>...</td>\n",
       "      <td>...</td>\n",
       "      <td>...</td>\n",
       "    </tr>\n",
       "    <tr>\n",
       "      <th>495</th>\n",
       "      <td>0.495197</td>\n",
       "      <td>0.220218</td>\n",
       "      <td>0.192868</td>\n",
       "      <td>0.034202</td>\n",
       "      <td>0.022661</td>\n",
       "      <td>0.000120</td>\n",
       "      <td>0.944152</td>\n",
       "      <td>NaN</td>\n",
       "    </tr>\n",
       "    <tr>\n",
       "      <th>496</th>\n",
       "      <td>0.397883</td>\n",
       "      <td>0.311142</td>\n",
       "      <td>0.230644</td>\n",
       "      <td>0.019164</td>\n",
       "      <td>0.018163</td>\n",
       "      <td>0.000120</td>\n",
       "      <td>1.056813</td>\n",
       "      <td>NaN</td>\n",
       "    </tr>\n",
       "    <tr>\n",
       "      <th>497</th>\n",
       "      <td>0.399372</td>\n",
       "      <td>0.228619</td>\n",
       "      <td>0.244359</td>\n",
       "      <td>0.023362</td>\n",
       "      <td>0.020515</td>\n",
       "      <td>0.000120</td>\n",
       "      <td>0.958884</td>\n",
       "      <td>NaN</td>\n",
       "    </tr>\n",
       "    <tr>\n",
       "      <th>498</th>\n",
       "      <td>0.426407</td>\n",
       "      <td>0.229222</td>\n",
       "      <td>0.196213</td>\n",
       "      <td>0.021651</td>\n",
       "      <td>0.024737</td>\n",
       "      <td>0.000120</td>\n",
       "      <td>0.889563</td>\n",
       "      <td>NaN</td>\n",
       "    </tr>\n",
       "    <tr>\n",
       "      <th>499</th>\n",
       "      <td>0.426962</td>\n",
       "      <td>0.211622</td>\n",
       "      <td>0.201516</td>\n",
       "      <td>0.037052</td>\n",
       "      <td>0.028791</td>\n",
       "      <td>0.000120</td>\n",
       "      <td>0.894448</td>\n",
       "      <td>1.198662</td>\n",
       "    </tr>\n",
       "  </tbody>\n",
       "</table>\n",
       "<p>500 rows × 8 columns</p>\n",
       "</div>"
      ],
      "text/plain": [
       "     loss_box_reg  loss_cls  loss_mask  loss_rpn_cls  loss_rpn_loc        lr  \\\n",
       "0        0.420520  0.278791   0.203399      0.026369      0.017227  0.000002   \n",
       "1        0.360244  0.184712   0.238427      0.023874      0.016660  0.000005   \n",
       "2        0.446040  0.290542   0.258382      0.026780      0.023409  0.000007   \n",
       "3        0.419906  0.317579   0.247101      0.024454      0.022135  0.000010   \n",
       "4        0.379199  0.281935   0.256533      0.022155      0.024319  0.000012   \n",
       "..            ...       ...        ...           ...           ...       ...   \n",
       "495      0.495197  0.220218   0.192868      0.034202      0.022661  0.000120   \n",
       "496      0.397883  0.311142   0.230644      0.019164      0.018163  0.000120   \n",
       "497      0.399372  0.228619   0.244359      0.023362      0.020515  0.000120   \n",
       "498      0.426407  0.229222   0.196213      0.021651      0.024737  0.000120   \n",
       "499      0.426962  0.211622   0.201516      0.037052      0.028791  0.000120   \n",
       "\n",
       "     total_loss  validation_loss  \n",
       "0      0.930057              NaN  \n",
       "1      0.873941              NaN  \n",
       "2      1.006991              NaN  \n",
       "3      1.035907              NaN  \n",
       "4      1.037476              NaN  \n",
       "..          ...              ...  \n",
       "495    0.944152              NaN  \n",
       "496    1.056813              NaN  \n",
       "497    0.958884              NaN  \n",
       "498    0.889563              NaN  \n",
       "499    0.894448         1.198662  \n",
       "\n",
       "[500 rows x 8 columns]"
      ]
     },
     "execution_count": 20,
     "metadata": {},
     "output_type": "execute_result"
    }
   ],
   "source": [
    "#df"
   ]
  },
  {
   "cell_type": "markdown",
   "id": "6a968a10",
   "metadata": {},
   "source": [
    "### loss"
   ]
  },
  {
   "cell_type": "code",
   "execution_count": 3,
   "id": "93929be5",
   "metadata": {},
   "outputs": [
    {
     "data": {
      "text/html": [
       "<div>\n",
       "<style scoped>\n",
       "    .dataframe tbody tr th:only-of-type {\n",
       "        vertical-align: middle;\n",
       "    }\n",
       "\n",
       "    .dataframe tbody tr th {\n",
       "        vertical-align: top;\n",
       "    }\n",
       "\n",
       "    .dataframe thead th {\n",
       "        text-align: right;\n",
       "    }\n",
       "</style>\n",
       "<table border=\"1\" class=\"dataframe\">\n",
       "  <thead>\n",
       "    <tr style=\"text-align: right;\">\n",
       "      <th></th>\n",
       "      <th>Unnamed: 0</th>\n",
       "      <th>loss_box_reg</th>\n",
       "      <th>loss_cls</th>\n",
       "      <th>loss_mask</th>\n",
       "      <th>loss_rpn_cls</th>\n",
       "      <th>loss_rpn_loc</th>\n",
       "      <th>total_loss</th>\n",
       "    </tr>\n",
       "  </thead>\n",
       "  <tbody>\n",
       "    <tr>\n",
       "      <th>0</th>\n",
       "      <td>0</td>\n",
       "      <td>0.460226</td>\n",
       "      <td>3.145686</td>\n",
       "      <td>0.693034</td>\n",
       "      <td>0.650171</td>\n",
       "      <td>0.045374</td>\n",
       "      <td>5.006367</td>\n",
       "    </tr>\n",
       "    <tr>\n",
       "      <th>1</th>\n",
       "      <td>1</td>\n",
       "      <td>0.461292</td>\n",
       "      <td>2.671455</td>\n",
       "      <td>0.692692</td>\n",
       "      <td>0.645793</td>\n",
       "      <td>0.044229</td>\n",
       "      <td>4.541778</td>\n",
       "    </tr>\n",
       "    <tr>\n",
       "      <th>2</th>\n",
       "      <td>2</td>\n",
       "      <td>0.528438</td>\n",
       "      <td>1.927198</td>\n",
       "      <td>0.692760</td>\n",
       "      <td>0.635135</td>\n",
       "      <td>0.042847</td>\n",
       "      <td>3.719406</td>\n",
       "    </tr>\n",
       "    <tr>\n",
       "      <th>3</th>\n",
       "      <td>3</td>\n",
       "      <td>0.490211</td>\n",
       "      <td>1.420728</td>\n",
       "      <td>0.692335</td>\n",
       "      <td>0.621356</td>\n",
       "      <td>0.053511</td>\n",
       "      <td>3.331301</td>\n",
       "    </tr>\n",
       "    <tr>\n",
       "      <th>4</th>\n",
       "      <td>4</td>\n",
       "      <td>0.548221</td>\n",
       "      <td>1.294209</td>\n",
       "      <td>0.692467</td>\n",
       "      <td>0.601981</td>\n",
       "      <td>0.049567</td>\n",
       "      <td>3.092495</td>\n",
       "    </tr>\n",
       "    <tr>\n",
       "      <th>...</th>\n",
       "      <td>...</td>\n",
       "      <td>...</td>\n",
       "      <td>...</td>\n",
       "      <td>...</td>\n",
       "      <td>...</td>\n",
       "      <td>...</td>\n",
       "      <td>...</td>\n",
       "    </tr>\n",
       "    <tr>\n",
       "      <th>10245</th>\n",
       "      <td>10245</td>\n",
       "      <td>0.398722</td>\n",
       "      <td>0.208778</td>\n",
       "      <td>0.205588</td>\n",
       "      <td>0.027903</td>\n",
       "      <td>0.023964</td>\n",
       "      <td>0.961742</td>\n",
       "    </tr>\n",
       "    <tr>\n",
       "      <th>10246</th>\n",
       "      <td>10246</td>\n",
       "      <td>0.441983</td>\n",
       "      <td>0.277299</td>\n",
       "      <td>0.199325</td>\n",
       "      <td>0.024175</td>\n",
       "      <td>0.020830</td>\n",
       "      <td>1.031399</td>\n",
       "    </tr>\n",
       "    <tr>\n",
       "      <th>10247</th>\n",
       "      <td>10247</td>\n",
       "      <td>0.426372</td>\n",
       "      <td>0.253090</td>\n",
       "      <td>0.254027</td>\n",
       "      <td>0.021816</td>\n",
       "      <td>0.024530</td>\n",
       "      <td>1.060387</td>\n",
       "    </tr>\n",
       "    <tr>\n",
       "      <th>10248</th>\n",
       "      <td>10248</td>\n",
       "      <td>0.410533</td>\n",
       "      <td>0.212143</td>\n",
       "      <td>0.257220</td>\n",
       "      <td>0.023463</td>\n",
       "      <td>0.025026</td>\n",
       "      <td>1.008657</td>\n",
       "    </tr>\n",
       "    <tr>\n",
       "      <th>10249</th>\n",
       "      <td>10249</td>\n",
       "      <td>0.461623</td>\n",
       "      <td>0.262364</td>\n",
       "      <td>0.228308</td>\n",
       "      <td>0.026403</td>\n",
       "      <td>0.021354</td>\n",
       "      <td>0.989322</td>\n",
       "    </tr>\n",
       "  </tbody>\n",
       "</table>\n",
       "<p>10250 rows × 7 columns</p>\n",
       "</div>"
      ],
      "text/plain": [
       "       Unnamed: 0  loss_box_reg  loss_cls  loss_mask  loss_rpn_cls  \\\n",
       "0               0      0.460226  3.145686   0.693034      0.650171   \n",
       "1               1      0.461292  2.671455   0.692692      0.645793   \n",
       "2               2      0.528438  1.927198   0.692760      0.635135   \n",
       "3               3      0.490211  1.420728   0.692335      0.621356   \n",
       "4               4      0.548221  1.294209   0.692467      0.601981   \n",
       "...           ...           ...       ...        ...           ...   \n",
       "10245       10245      0.398722  0.208778   0.205588      0.027903   \n",
       "10246       10246      0.441983  0.277299   0.199325      0.024175   \n",
       "10247       10247      0.426372  0.253090   0.254027      0.021816   \n",
       "10248       10248      0.410533  0.212143   0.257220      0.023463   \n",
       "10249       10249      0.461623  0.262364   0.228308      0.026403   \n",
       "\n",
       "       loss_rpn_loc  total_loss  \n",
       "0          0.045374    5.006367  \n",
       "1          0.044229    4.541778  \n",
       "2          0.042847    3.719406  \n",
       "3          0.053511    3.331301  \n",
       "4          0.049567    3.092495  \n",
       "...             ...         ...  \n",
       "10245      0.023964    0.961742  \n",
       "10246      0.020830    1.031399  \n",
       "10247      0.024530    1.060387  \n",
       "10248      0.025026    1.008657  \n",
       "10249      0.021354    0.989322  \n",
       "\n",
       "[10250 rows x 7 columns]"
      ]
     },
     "execution_count": 3,
     "metadata": {},
     "output_type": "execute_result"
    }
   ],
   "source": [
    "# .csv 파일을 데이터프레임으로 불러오기\n",
    "#df = pd.read_csv('history/df_loss.csv')\n",
    "#df"
   ]
  },
  {
   "cell_type": "code",
   "execution_count": 4,
   "id": "1c9b4eeb",
   "metadata": {},
   "outputs": [],
   "source": [
    "# 처음 불러올 때\n",
    "#loss_box_reg_list = []\n",
    "#loss_cls_list = []\n",
    "#loss_mask_list = []\n",
    "#loss_rpn_cls_list = []\n",
    "#loss_rpn_loc_list = []\n",
    "#total_loss_list = []"
   ]
  },
  {
   "cell_type": "code",
   "execution_count": 20,
   "id": "f839fd06",
   "metadata": {},
   "outputs": [],
   "source": [
    "loss_box_reg_list = loss_box_reg_list + df['loss_box_reg'].astype(float).tolist()\n",
    "loss_cls_list = loss_cls_list + df['loss_cls'].astype(float).tolist()\n",
    "loss_mask_list = loss_mask_list + df['loss_mask'].astype(float).tolist()\n",
    "loss_rpn_cls_list = loss_rpn_cls_list + df['loss_rpn_cls'].astype(float).tolist()\n",
    "loss_rpn_loc_list = loss_rpn_loc_list + df['loss_rpn_loc'].astype(float).tolist()\n",
    "total_loss_list = total_loss_list + df['total_loss'].astype(float).tolist()"
   ]
  },
  {
   "cell_type": "code",
   "execution_count": 21,
   "id": "52f6d893",
   "metadata": {},
   "outputs": [
    {
     "data": {
      "text/plain": [
       "11500"
      ]
     },
     "execution_count": 21,
     "metadata": {},
     "output_type": "execute_result"
    }
   ],
   "source": [
    "len(loss_box_reg_list)"
   ]
  },
  {
   "cell_type": "code",
   "execution_count": 22,
   "id": "989ac08e",
   "metadata": {},
   "outputs": [],
   "source": [
    "# loss 저장 (리스트를 데이터프레임으로 만들기)\n",
    "df_loss = pd.DataFrame({'loss_box_reg': loss_box_reg_list, 'loss_cls': loss_cls_list, 'loss_mask': loss_mask_list,\\\n",
    "                       'loss_rpn_cls': loss_rpn_cls_list, 'loss_rpn_loc': loss_rpn_loc_list, 'total_loss': total_loss_list})\n",
    "df_loss.to_csv('history/df_loss.csv', index=True)"
   ]
  },
  {
   "cell_type": "code",
   "execution_count": 23,
   "id": "5e4cbc0c",
   "metadata": {},
   "outputs": [],
   "source": [
    "iters_01 = []\n",
    "\n",
    "for i in range(1, len(loss_box_reg_list)+1):\n",
    "    i = i * 20\n",
    "    iters_01.append(i)"
   ]
  },
  {
   "cell_type": "code",
   "execution_count": 24,
   "id": "b47d9e9c",
   "metadata": {},
   "outputs": [
    {
     "data": {
      "image/png": "[encoded data removed]",
      "text/plain": [
       "<Figure size 1008x576 with 1 Axes>"
      ]
     },
     "metadata": {
      "needs_background": "light"
     },
     "output_type": "display_data"
    }
   ],
   "source": [
    "# loss 그래프 그리기\n",
    "fig, ax = plt.subplots(figsize=(14, 8))\n",
    "\n",
    "plt.plot(iters_01, loss_box_reg_list, label='loss_box_reg')\n",
    "plt.plot(iters_01, loss_cls_list, label='loss_cls_list')\n",
    "plt.plot(iters_01, loss_mask_list, label='loss_mask_list')\n",
    "plt.plot(iters_01, loss_rpn_cls_list, label='loss_rpn_cls')\n",
    "plt.plot(iters_01, loss_rpn_loc_list, label='loss_rpn_loc')\n",
    "plt.plot(iters_01, total_loss_list, label='total_loss')\n",
    "\n",
    "plt.xticks(rotation=90)  # x축 레이블 90도 회전\n",
    "plt.xlabel('Iter')  # x축 레이블 설정\n",
    "plt.ylabel('Loss')\n",
    "plt.title('Losses')\n",
    "plt.legend()\n",
    "plt.show()"
   ]
  },
  {
   "cell_type": "markdown",
   "id": "7e27ae2f",
   "metadata": {},
   "source": [
    "### validation loss"
   ]
  },
  {
   "cell_type": "code",
   "execution_count": 9,
   "id": "a6d27ca8",
   "metadata": {},
   "outputs": [
    {
     "data": {
      "text/html": [
       "<div>\n",
       "<style scoped>\n",
       "    .dataframe tbody tr th:only-of-type {\n",
       "        vertical-align: middle;\n",
       "    }\n",
       "\n",
       "    .dataframe tbody tr th {\n",
       "        vertical-align: top;\n",
       "    }\n",
       "\n",
       "    .dataframe thead th {\n",
       "        text-align: right;\n",
       "    }\n",
       "</style>\n",
       "<table border=\"1\" class=\"dataframe\">\n",
       "  <thead>\n",
       "    <tr style=\"text-align: right;\">\n",
       "      <th></th>\n",
       "      <th>Unnamed: 0</th>\n",
       "      <th>validation_loss</th>\n",
       "    </tr>\n",
       "  </thead>\n",
       "  <tbody>\n",
       "    <tr>\n",
       "      <th>0</th>\n",
       "      <td>0</td>\n",
       "      <td>2.480734</td>\n",
       "    </tr>\n",
       "    <tr>\n",
       "      <th>1</th>\n",
       "      <td>1</td>\n",
       "      <td>2.283602</td>\n",
       "    </tr>\n",
       "    <tr>\n",
       "      <th>2</th>\n",
       "      <td>2</td>\n",
       "      <td>2.069642</td>\n",
       "    </tr>\n",
       "    <tr>\n",
       "      <th>3</th>\n",
       "      <td>3</td>\n",
       "      <td>2.029822</td>\n",
       "    </tr>\n",
       "    <tr>\n",
       "      <th>4</th>\n",
       "      <td>4</td>\n",
       "      <td>1.926370</td>\n",
       "    </tr>\n",
       "    <tr>\n",
       "      <th>...</th>\n",
       "      <td>...</td>\n",
       "      <td>...</td>\n",
       "    </tr>\n",
       "    <tr>\n",
       "      <th>200</th>\n",
       "      <td>200</td>\n",
       "      <td>1.179939</td>\n",
       "    </tr>\n",
       "    <tr>\n",
       "      <th>201</th>\n",
       "      <td>201</td>\n",
       "      <td>1.189535</td>\n",
       "    </tr>\n",
       "    <tr>\n",
       "      <th>202</th>\n",
       "      <td>202</td>\n",
       "      <td>1.186346</td>\n",
       "    </tr>\n",
       "    <tr>\n",
       "      <th>203</th>\n",
       "      <td>203</td>\n",
       "      <td>1.185146</td>\n",
       "    </tr>\n",
       "    <tr>\n",
       "      <th>204</th>\n",
       "      <td>204</td>\n",
       "      <td>1.165300</td>\n",
       "    </tr>\n",
       "  </tbody>\n",
       "</table>\n",
       "<p>205 rows × 2 columns</p>\n",
       "</div>"
      ],
      "text/plain": [
       "     Unnamed: 0  validation_loss\n",
       "0             0         2.480734\n",
       "1             1         2.283602\n",
       "2             2         2.069642\n",
       "3             3         2.029822\n",
       "4             4         1.926370\n",
       "..          ...              ...\n",
       "200         200         1.179939\n",
       "201         201         1.189535\n",
       "202         202         1.186346\n",
       "203         203         1.185146\n",
       "204         204         1.165300\n",
       "\n",
       "[205 rows x 2 columns]"
      ]
     },
     "execution_count": 9,
     "metadata": {},
     "output_type": "execute_result"
    }
   ],
   "source": [
    "# .csv 파일을 데이터프레임으로 불러오기\n",
    "#df = pd.read_csv('history/df_val_loss.csv')\n",
    "#df"
   ]
  },
  {
   "cell_type": "code",
   "execution_count": 25,
   "id": "de4cf799",
   "metadata": {},
   "outputs": [],
   "source": [
    "# 처음 불러올 때\n",
    "#validation_loss_list = []\n",
    "\n",
    "validation_loss_list = validation_loss_list + df['validation_loss'].astype(float).tolist()"
   ]
  },
  {
   "cell_type": "code",
   "execution_count": 26,
   "id": "83edb3b0",
   "metadata": {},
   "outputs": [],
   "source": [
    "import math\n",
    "\n",
    "# .json 파일 불러올 때\n",
    "# 각 요소가 nan이 아닌 것만 새로운 리스트에 추가\n",
    "validation_loss_list = [x for x in validation_loss_list if not math.isnan(x)]"
   ]
  },
  {
   "cell_type": "code",
   "execution_count": 27,
   "id": "f2121392",
   "metadata": {},
   "outputs": [
    {
     "data": {
      "text/plain": [
       "230"
      ]
     },
     "execution_count": 27,
     "metadata": {},
     "output_type": "execute_result"
    }
   ],
   "source": [
    "len(validation_loss_list)"
   ]
  },
  {
   "cell_type": "code",
   "execution_count": 28,
   "id": "d4254f95",
   "metadata": {},
   "outputs": [],
   "source": [
    "# val_loss 저장 (리스트를 데이터프레임으로 만들기)\n",
    "df_val_loss = pd.DataFrame({'validation_loss': validation_loss_list})\n",
    "df_val_loss.to_csv('history/df_val_loss.csv', index=True)"
   ]
  },
  {
   "cell_type": "code",
   "execution_count": 222,
   "id": "c4a779e0",
   "metadata": {},
   "outputs": [],
   "source": [
    "#del validation_loss_list[3:26:2]"
   ]
  },
  {
   "cell_type": "code",
   "execution_count": 29,
   "id": "06558c1d",
   "metadata": {},
   "outputs": [],
   "source": [
    "iters_02 = []\n",
    "\n",
    "for i in range(1, len(validation_loss_list)+1):\n",
    "    i = i * 1000\n",
    "    iters_02.append(i)"
   ]
  },
  {
   "cell_type": "code",
   "execution_count": 30,
   "id": "9cd41505",
   "metadata": {},
   "outputs": [
    {
     "data": {
      "image/png": "[encoded data removed]",
      "text/plain": [
       "<Figure size 1008x576 with 1 Axes>"
      ]
     },
     "metadata": {
      "needs_background": "light"
     },
     "output_type": "display_data"
    }
   ],
   "source": [
    "# validation 그래프 그리기\n",
    "fig, ax = plt.subplots(figsize=(14, 8))\n",
    "\n",
    "plt.plot(iters_02, validation_loss_list, label='validation_loss')\n",
    "\n",
    "plt.xticks(rotation=90)  # x축 레이블 90도 회전\n",
    "plt.xlabel('Iter')  # x축 레이블 설정\n",
    "plt.ylabel('Validation Loss')\n",
    "plt.title('Validation Loss')\n",
    "plt.legend()\n",
    "plt.show()"
   ]
  },
  {
   "cell_type": "markdown",
   "id": "fdb80bd3",
   "metadata": {},
   "source": [
    "### learning rate"
   ]
  },
  {
   "cell_type": "code",
   "execution_count": 14,
   "id": "098050c1",
   "metadata": {},
   "outputs": [
    {
     "data": {
      "text/html": [
       "<div>\n",
       "<style scoped>\n",
       "    .dataframe tbody tr th:only-of-type {\n",
       "        vertical-align: middle;\n",
       "    }\n",
       "\n",
       "    .dataframe tbody tr th {\n",
       "        vertical-align: top;\n",
       "    }\n",
       "\n",
       "    .dataframe thead th {\n",
       "        text-align: right;\n",
       "    }\n",
       "</style>\n",
       "<table border=\"1\" class=\"dataframe\">\n",
       "  <thead>\n",
       "    <tr style=\"text-align: right;\">\n",
       "      <th></th>\n",
       "      <th>Unnamed: 0</th>\n",
       "      <th>lr</th>\n",
       "    </tr>\n",
       "  </thead>\n",
       "  <tbody>\n",
       "    <tr>\n",
       "      <th>0</th>\n",
       "      <td>0</td>\n",
       "      <td>0.000004</td>\n",
       "    </tr>\n",
       "    <tr>\n",
       "      <th>1</th>\n",
       "      <td>1</td>\n",
       "      <td>0.000008</td>\n",
       "    </tr>\n",
       "    <tr>\n",
       "      <th>2</th>\n",
       "      <td>2</td>\n",
       "      <td>0.000012</td>\n",
       "    </tr>\n",
       "    <tr>\n",
       "      <th>3</th>\n",
       "      <td>3</td>\n",
       "      <td>0.000016</td>\n",
       "    </tr>\n",
       "    <tr>\n",
       "      <th>4</th>\n",
       "      <td>4</td>\n",
       "      <td>0.000020</td>\n",
       "    </tr>\n",
       "    <tr>\n",
       "      <th>...</th>\n",
       "      <td>...</td>\n",
       "      <td>...</td>\n",
       "    </tr>\n",
       "    <tr>\n",
       "      <th>10245</th>\n",
       "      <td>10245</td>\n",
       "      <td>0.000100</td>\n",
       "    </tr>\n",
       "    <tr>\n",
       "      <th>10246</th>\n",
       "      <td>10246</td>\n",
       "      <td>0.000100</td>\n",
       "    </tr>\n",
       "    <tr>\n",
       "      <th>10247</th>\n",
       "      <td>10247</td>\n",
       "      <td>0.000100</td>\n",
       "    </tr>\n",
       "    <tr>\n",
       "      <th>10248</th>\n",
       "      <td>10248</td>\n",
       "      <td>0.000100</td>\n",
       "    </tr>\n",
       "    <tr>\n",
       "      <th>10249</th>\n",
       "      <td>10249</td>\n",
       "      <td>0.000100</td>\n",
       "    </tr>\n",
       "  </tbody>\n",
       "</table>\n",
       "<p>10250 rows × 2 columns</p>\n",
       "</div>"
      ],
      "text/plain": [
       "       Unnamed: 0        lr\n",
       "0               0  0.000004\n",
       "1               1  0.000008\n",
       "2               2  0.000012\n",
       "3               3  0.000016\n",
       "4               4  0.000020\n",
       "...           ...       ...\n",
       "10245       10245  0.000100\n",
       "10246       10246  0.000100\n",
       "10247       10247  0.000100\n",
       "10248       10248  0.000100\n",
       "10249       10249  0.000100\n",
       "\n",
       "[10250 rows x 2 columns]"
      ]
     },
     "execution_count": 14,
     "metadata": {},
     "output_type": "execute_result"
    }
   ],
   "source": [
    "# .csv 파일을 데이터프레임으로 불러오기\n",
    "#df = pd.read_csv('history/df_lr.csv')\n",
    "#df"
   ]
  },
  {
   "cell_type": "code",
   "execution_count": 31,
   "id": "85008622",
   "metadata": {},
   "outputs": [],
   "source": [
    "# 처음 불러올 때\n",
    "#lr_list = []\n",
    "\n",
    "lr_list = lr_list + df['lr'].astype(float).tolist()"
   ]
  },
  {
   "cell_type": "code",
   "execution_count": 32,
   "id": "ece46983",
   "metadata": {},
   "outputs": [
    {
     "data": {
      "text/plain": [
       "11500"
      ]
     },
     "execution_count": 32,
     "metadata": {},
     "output_type": "execute_result"
    }
   ],
   "source": [
    "len(lr_list)"
   ]
  },
  {
   "cell_type": "code",
   "execution_count": 33,
   "id": "e0705381",
   "metadata": {},
   "outputs": [],
   "source": [
    "# val_loss 저장 (리스트를 데이터프레임으로 만들기)\n",
    "df_lr = pd.DataFrame({'lr': lr_list})\n",
    "df_lr.to_csv('history/df_lr.csv', index=True)"
   ]
  },
  {
   "cell_type": "code",
   "execution_count": 34,
   "id": "11107fba",
   "metadata": {},
   "outputs": [
    {
     "data": {
      "image/png": "[encoded data removed]",
      "text/plain": [
       "<Figure size 1008x576 with 1 Axes>"
      ]
     },
     "metadata": {
      "needs_background": "light"
     },
     "output_type": "display_data"
    }
   ],
   "source": [
    "# Learning Rate 그래프 그리기\n",
    "fig, ax = plt.subplots(figsize=(14, 8))\n",
    "\n",
    "plt.plot(iters_01, lr_list, label='learning rate')\n",
    "\n",
    "plt.xticks(rotation=90)  # x축 레이블 90도 회전\n",
    "plt.xlabel('Iter')  # x축 레이블 설정\n",
    "plt.ylabel('Learning Rate')\n",
    "plt.title('Learning Rate')\n",
    "plt.legend()\n",
    "plt.show()"
   ]
  },
  {
   "cell_type": "code",
   "execution_count": null,
   "id": "57ca20d2",
   "metadata": {},
   "outputs": [],
   "source": []
  },
  {
   "cell_type": "code",
   "execution_count": null,
   "id": "02e050cd",
   "metadata": {},
   "outputs": [],
   "source": []
  }
 ],
 "metadata": {
  "kernelspec": {
   "display_name": "Python 3 (ipykernel)",
   "language": "python",
   "name": "python3"
  },
  "language_info": {
   "codemirror_mode": {
    "name": "ipython",
    "version": 3
   },
   "file_extension": ".py",
   "mimetype": "text/x-python",
   "name": "python",
   "nbconvert_exporter": "python",
   "pygments_lexer": "ipython3",
   "version": "3.9.7"
  }
 },
 "nbformat": 4,
 "nbformat_minor": 5
}
